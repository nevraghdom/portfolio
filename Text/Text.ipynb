{
 "cells": [
  {
   "cell_type": "markdown",
   "id": "9b4a6ab4",
   "metadata": {
    "toc": true
   },
   "source": [
    "<h1>Содержание<span class=\"tocSkip\"></span></h1>\n",
    "<div class=\"toc\"><ul class=\"toc-item\"><li><span><a href=\"#Введение\" data-toc-modified-id=\"Введение-1\"><span class=\"toc-item-num\">1&nbsp;&nbsp;</span>Введение</a></span></li><li><span><a href=\"#Предобработка-данных\" data-toc-modified-id=\"Предобработка-данных-2\"><span class=\"toc-item-num\">2&nbsp;&nbsp;</span>Предобработка данных</a></span><ul class=\"toc-item\"><li><span><a href=\"#Импорт-библиотек\" data-toc-modified-id=\"Импорт-библиотек-2.1\"><span class=\"toc-item-num\">2.1&nbsp;&nbsp;</span>Импорт библиотек</a></span></li><li><span><a href=\"#Чтение-и-обработка-данных\" data-toc-modified-id=\"Чтение-и-обработка-данных-2.2\"><span class=\"toc-item-num\">2.2&nbsp;&nbsp;</span>Чтение и обработка данных</a></span></li><li><span><a href=\"#Формирование-выборок\" data-toc-modified-id=\"Формирование-выборок-2.3\"><span class=\"toc-item-num\">2.3&nbsp;&nbsp;</span>Формирование выборок</a></span></li></ul></li><li><span><a href=\"#Обучение-модели\" data-toc-modified-id=\"Обучение-модели-3\"><span class=\"toc-item-num\">3&nbsp;&nbsp;</span>Обучение модели</a></span><ul class=\"toc-item\"><li><span><a href=\"#Объявление-функций-для-обучения\" data-toc-modified-id=\"Объявление-функций-для-обучения-3.1\"><span class=\"toc-item-num\">3.1&nbsp;&nbsp;</span>Объявление функций для обучения</a></span></li><li><span><a href=\"#Обучение-моделей\" data-toc-modified-id=\"Обучение-моделей-3.2\"><span class=\"toc-item-num\">3.2&nbsp;&nbsp;</span>Обучение моделей</a></span><ul class=\"toc-item\"><li><span><a href=\"#Логистическая-регрессия\" data-toc-modified-id=\"Логистическая-регрессия-3.2.1\"><span class=\"toc-item-num\">3.2.1&nbsp;&nbsp;</span>Логистическая регрессия</a></span></li><li><span><a href=\"#LinearSVC\" data-toc-modified-id=\"LinearSVC-3.2.2\"><span class=\"toc-item-num\">3.2.2&nbsp;&nbsp;</span>LinearSVC</a></span></li><li><span><a href=\"#SGDClassifier\" data-toc-modified-id=\"SGDClassifier-3.2.3\"><span class=\"toc-item-num\">3.2.3&nbsp;&nbsp;</span>SGDClassifier</a></span></li><li><span><a href=\"#Проверка-на-адекватность\" data-toc-modified-id=\"Проверка-на-адекватность-3.2.4\"><span class=\"toc-item-num\">3.2.4&nbsp;&nbsp;</span>Проверка на адекватность</a></span></li></ul></li><li><span><a href=\"#Результаты-обучения\" data-toc-modified-id=\"Результаты-обучения-3.3\"><span class=\"toc-item-num\">3.3&nbsp;&nbsp;</span>Результаты обучения</a></span></li></ul></li><li><span><a href=\"#Тестирование-модели\" data-toc-modified-id=\"Тестирование-модели-4\"><span class=\"toc-item-num\">4&nbsp;&nbsp;</span>Тестирование модели</a></span></li><li><span><a href=\"#Общий-вывод\" data-toc-modified-id=\"Общий-вывод-5\"><span class=\"toc-item-num\">5&nbsp;&nbsp;</span>Общий вывод</a></span></li></ul></div>"
   ]
  },
  {
   "cell_type": "markdown",
   "id": "a1b4bbca",
   "metadata": {},
   "source": [
    "# Определение токсичности текста"
   ]
  },
  {
   "cell_type": "markdown",
   "id": "75caf0fd",
   "metadata": {},
   "source": [
    "## Введение"
   ]
  },
  {
   "cell_type": "markdown",
   "id": "43f42ebd",
   "metadata": {},
   "source": [
    "**Описание задачи:**  \n",
    "Интернет-магазин запускает новый сервис: пользователи могут предлагать свои правки описаний товаров и комментировать изменения других. Магазину нужен инструмент, который будет искать токсичные комментарии и отправлять их на модерацию.   \n",
    "\n",
    "**Цели исследования:**  \n",
    "Необходимо построить модель машинного обучения, которая будет классифицировать комментарии на позитивные и негативные. Обучение происходит на наборе данных с разметкой о токсичности правок.\n",
    "- Целевой признак - является ли комментарий токсичным `toxic`.\n",
    "- Метрикой выступает `F1`, её значение не должно быть меньше 0.75.  \n",
    "\n",
    "**Ход исследования:**\n",
    "1. Подготовка данных.\n",
    "2. Формирование признаков, обучение моделей.\n",
    "3. Тестирование и выбор моделей."
   ]
  },
  {
   "cell_type": "markdown",
   "id": "20478bd8",
   "metadata": {},
   "source": [
    "## Предобработка данных"
   ]
  },
  {
   "cell_type": "markdown",
   "id": "3cda66a1",
   "metadata": {},
   "source": [
    "### Импорт библиотек"
   ]
  },
  {
   "cell_type": "markdown",
   "id": "8344ecc9",
   "metadata": {},
   "source": [
    "Импортирую библиотеки и объявляю константы."
   ]
  },
  {
   "cell_type": "code",
   "execution_count": 92,
   "id": "0f55c284",
   "metadata": {},
   "outputs": [],
   "source": [
    "import pandas as pd\n",
    "import numpy as np\n",
    "import re\n",
    "import nltk\n",
    "import spacy\n",
    "import warnings\n",
    "import seaborn as sns\n",
    "import matplotlib.pyplot as plt\n",
    "\n",
    "from tqdm import notebook\n",
    "from nltk.corpus import stopwords\n",
    "from sklearn.feature_extraction.text import TfidfVectorizer\n",
    "from sklearn.calibration import CalibratedClassifierCV\n",
    "from sklearn.metrics import accuracy_score, recall_score, precision_score, f1_score, roc_auc_score, roc_curve, confusion_matrix\n",
    "from sklearn.model_selection import GridSearchCV,  train_test_split\n",
    "from sklearn.pipeline import Pipeline\n",
    "from sklearn.linear_model import LogisticRegression, SGDClassifier\n",
    "from sklearn.svm import LinearSVC\n",
    "from sklearn.dummy import DummyClassifier"
   ]
  },
  {
   "cell_type": "code",
   "execution_count": 48,
   "id": "a747bfe5",
   "metadata": {},
   "outputs": [],
   "source": [
    "SEED = 340513"
   ]
  },
  {
   "cell_type": "markdown",
   "id": "528f78c8",
   "metadata": {},
   "source": [
    "### Чтение и обработка данных"
   ]
  },
  {
   "cell_type": "code",
   "execution_count": 49,
   "id": "2a874e0a",
   "metadata": {},
   "outputs": [
    {
     "data": {
      "text/html": [
       "<div>\n",
       "<style scoped>\n",
       "    .dataframe tbody tr th:only-of-type {\n",
       "        vertical-align: middle;\n",
       "    }\n",
       "\n",
       "    .dataframe tbody tr th {\n",
       "        vertical-align: top;\n",
       "    }\n",
       "\n",
       "    .dataframe thead th {\n",
       "        text-align: right;\n",
       "    }\n",
       "</style>\n",
       "<table border=\"1\" class=\"dataframe\">\n",
       "  <thead>\n",
       "    <tr style=\"text-align: right;\">\n",
       "      <th></th>\n",
       "      <th>Unnamed: 0</th>\n",
       "      <th>text</th>\n",
       "      <th>toxic</th>\n",
       "    </tr>\n",
       "  </thead>\n",
       "  <tbody>\n",
       "    <tr>\n",
       "      <th>0</th>\n",
       "      <td>0</td>\n",
       "      <td>Explanation\\nWhy the edits made under my usern...</td>\n",
       "      <td>0</td>\n",
       "    </tr>\n",
       "    <tr>\n",
       "      <th>1</th>\n",
       "      <td>1</td>\n",
       "      <td>D'aww! He matches this background colour I'm s...</td>\n",
       "      <td>0</td>\n",
       "    </tr>\n",
       "    <tr>\n",
       "      <th>2</th>\n",
       "      <td>2</td>\n",
       "      <td>Hey man, I'm really not trying to edit war. It...</td>\n",
       "      <td>0</td>\n",
       "    </tr>\n",
       "    <tr>\n",
       "      <th>3</th>\n",
       "      <td>3</td>\n",
       "      <td>\"\\nMore\\nI can't make any real suggestions on ...</td>\n",
       "      <td>0</td>\n",
       "    </tr>\n",
       "    <tr>\n",
       "      <th>4</th>\n",
       "      <td>4</td>\n",
       "      <td>You, sir, are my hero. Any chance you remember...</td>\n",
       "      <td>0</td>\n",
       "    </tr>\n",
       "  </tbody>\n",
       "</table>\n",
       "</div>"
      ],
      "text/plain": [
       "   Unnamed: 0                                               text  toxic\n",
       "0           0  Explanation\\nWhy the edits made under my usern...      0\n",
       "1           1  D'aww! He matches this background colour I'm s...      0\n",
       "2           2  Hey man, I'm really not trying to edit war. It...      0\n",
       "3           3  \"\\nMore\\nI can't make any real suggestions on ...      0\n",
       "4           4  You, sir, are my hero. Any chance you remember...      0"
      ]
     },
     "execution_count": 49,
     "metadata": {},
     "output_type": "execute_result"
    }
   ],
   "source": [
    "df = pd.read_csv('toxic_comments.csv')\n",
    "df.head()"
   ]
  },
  {
   "cell_type": "code",
   "execution_count": 50,
   "id": "c53ba088",
   "metadata": {},
   "outputs": [
    {
     "data": {
      "text/html": [
       "<pre style=\"white-space:pre;overflow-x:auto;line-height:normal;font-family:Menlo,'DejaVu Sans Mono',consolas,'Courier New',monospace\">╭──────────────────────────────────────────────── skimpy summary ─────────────────────────────────────────────────╮\n",
       "│ <span style=\"font-style: italic\">         Data Summary         </span> <span style=\"font-style: italic\">      Data Types       </span>                                                          │\n",
       "│ ┏━━━━━━━━━━━━━━━━━━━┳━━━━━━━━┓ ┏━━━━━━━━━━━━━┳━━━━━━━┓                                                          │\n",
       "│ ┃<span style=\"color: #008080; text-decoration-color: #008080; font-weight: bold\"> dataframe         </span>┃<span style=\"color: #008080; text-decoration-color: #008080; font-weight: bold\"> Values </span>┃ ┃<span style=\"color: #008080; text-decoration-color: #008080; font-weight: bold\"> Column Type </span>┃<span style=\"color: #008080; text-decoration-color: #008080; font-weight: bold\"> Count </span>┃                                                          │\n",
       "│ ┡━━━━━━━━━━━━━━━━━━━╇━━━━━━━━┩ ┡━━━━━━━━━━━━━╇━━━━━━━┩                                                          │\n",
       "│ │ Number of rows    │ 159292 │ │ int32       │ 2     │                                                          │\n",
       "│ │ Number of columns │ 3      │ │ string      │ 1     │                                                          │\n",
       "│ └───────────────────┴────────┘ └─────────────┴───────┘                                                          │\n",
       "│ <span style=\"font-style: italic\">                                                    number                                                    </span>  │\n",
       "│ ┏━━━━━━━━━━━━━━━━━━┳━━━━━━┳━━━━━━━━━┳━━━━━━━━━━┳━━━━━━━━━━┳━━━━━━┳━━━━━━━━━━┳━━━━━━━━━━┳━━━━━━━━━━┳━━━━━━━━━━┓  │\n",
       "│ ┃<span style=\"font-weight: bold\"> column_name      </span>┃<span style=\"font-weight: bold\"> NA   </span>┃<span style=\"font-weight: bold\"> NA %    </span>┃<span style=\"font-weight: bold\"> mean     </span>┃<span style=\"font-weight: bold\"> sd       </span>┃<span style=\"font-weight: bold\"> p0   </span>┃<span style=\"font-weight: bold\"> p25      </span>┃<span style=\"font-weight: bold\"> p75      </span>┃<span style=\"font-weight: bold\"> p100     </span>┃<span style=\"font-weight: bold\"> hist     </span>┃  │\n",
       "│ ┡━━━━━━━━━━━━━━━━━━╇━━━━━━╇━━━━━━━━━╇━━━━━━━━━━╇━━━━━━━━━━╇━━━━━━╇━━━━━━━━━━╇━━━━━━━━━━╇━━━━━━━━━━╇━━━━━━━━━━┩  │\n",
       "│ │ <span style=\"color: #af87ff; text-decoration-color: #af87ff\">Unnamed: 0      </span> │ <span style=\"color: #008080; text-decoration-color: #008080\">   0</span> │ <span style=\"color: #008080; text-decoration-color: #008080\">      0</span> │ <span style=\"color: #008080; text-decoration-color: #008080\">   80000</span> │ <span style=\"color: #008080; text-decoration-color: #008080\">   46000</span> │ <span style=\"color: #008080; text-decoration-color: #008080\">   0</span> │ <span style=\"color: #008080; text-decoration-color: #008080\">   40000</span> │ <span style=\"color: #008080; text-decoration-color: #008080\">  120000</span> │ <span style=\"color: #008080; text-decoration-color: #008080\">  160000</span> │ <span style=\"color: #008000; text-decoration-color: #008000\"> ██████ </span> │  │\n",
       "│ │ <span style=\"color: #af87ff; text-decoration-color: #af87ff\">toxic           </span> │ <span style=\"color: #008080; text-decoration-color: #008080\">   0</span> │ <span style=\"color: #008080; text-decoration-color: #008080\">      0</span> │ <span style=\"color: #008080; text-decoration-color: #008080\">     0.1</span> │ <span style=\"color: #008080; text-decoration-color: #008080\">     0.3</span> │ <span style=\"color: #008080; text-decoration-color: #008080\">   0</span> │ <span style=\"color: #008080; text-decoration-color: #008080\">       0</span> │ <span style=\"color: #008080; text-decoration-color: #008080\">       0</span> │ <span style=\"color: #008080; text-decoration-color: #008080\">       1</span> │ <span style=\"color: #008000; text-decoration-color: #008000\"> █    ▁ </span> │  │\n",
       "│ └──────────────────┴──────┴─────────┴──────────┴──────────┴──────┴──────────┴──────────┴──────────┴──────────┘  │\n",
       "│ <span style=\"font-style: italic\">                                                    string                                                    </span>  │\n",
       "│ ┏━━━━━━━━━━━━━━━━━━━━━━━━━━━┳━━━━━━━━━┳━━━━━━━━━━━━┳━━━━━━━━━━━━━━━━━━━━━━━━━━━━━━┳━━━━━━━━━━━━━━━━━━━━━━━━━━┓  │\n",
       "│ ┃<span style=\"font-weight: bold\"> column_name               </span>┃<span style=\"font-weight: bold\"> NA      </span>┃<span style=\"font-weight: bold\"> NA %       </span>┃<span style=\"font-weight: bold\"> words per row                </span>┃<span style=\"font-weight: bold\"> total words              </span>┃  │\n",
       "│ ┡━━━━━━━━━━━━━━━━━━━━━━━━━━━╇━━━━━━━━━╇━━━━━━━━━━━━╇━━━━━━━━━━━━━━━━━━━━━━━━━━━━━━╇━━━━━━━━━━━━━━━━━━━━━━━━━━┩  │\n",
       "│ │ <span style=\"color: #af87ff; text-decoration-color: #af87ff\">text                     </span> │ <span style=\"color: #008080; text-decoration-color: #008080\">      0</span> │ <span style=\"color: #008080; text-decoration-color: #008080\">         0</span> │ <span style=\"color: #008080; text-decoration-color: #008080\">                          68</span> │ <span style=\"color: #008080; text-decoration-color: #008080\">                11000000</span> │  │\n",
       "│ └───────────────────────────┴─────────┴────────────┴──────────────────────────────┴──────────────────────────┘  │\n",
       "╰────────────────────────────────────────────────────── End ──────────────────────────────────────────────────────╯\n",
       "</pre>\n"
      ],
      "text/plain": [
       "╭──────────────────────────────────────────────── skimpy summary ─────────────────────────────────────────────────╮\n",
       "│ \u001b[3m         Data Summary         \u001b[0m \u001b[3m      Data Types       \u001b[0m                                                          │\n",
       "│ ┏━━━━━━━━━━━━━━━━━━━┳━━━━━━━━┓ ┏━━━━━━━━━━━━━┳━━━━━━━┓                                                          │\n",
       "│ ┃\u001b[1;36m \u001b[0m\u001b[1;36mdataframe        \u001b[0m\u001b[1;36m \u001b[0m┃\u001b[1;36m \u001b[0m\u001b[1;36mValues\u001b[0m\u001b[1;36m \u001b[0m┃ ┃\u001b[1;36m \u001b[0m\u001b[1;36mColumn Type\u001b[0m\u001b[1;36m \u001b[0m┃\u001b[1;36m \u001b[0m\u001b[1;36mCount\u001b[0m\u001b[1;36m \u001b[0m┃                                                          │\n",
       "│ ┡━━━━━━━━━━━━━━━━━━━╇━━━━━━━━┩ ┡━━━━━━━━━━━━━╇━━━━━━━┩                                                          │\n",
       "│ │ Number of rows    │ 159292 │ │ int32       │ 2     │                                                          │\n",
       "│ │ Number of columns │ 3      │ │ string      │ 1     │                                                          │\n",
       "│ └───────────────────┴────────┘ └─────────────┴───────┘                                                          │\n",
       "│ \u001b[3m                                                    number                                                    \u001b[0m  │\n",
       "│ ┏━━━━━━━━━━━━━━━━━━┳━━━━━━┳━━━━━━━━━┳━━━━━━━━━━┳━━━━━━━━━━┳━━━━━━┳━━━━━━━━━━┳━━━━━━━━━━┳━━━━━━━━━━┳━━━━━━━━━━┓  │\n",
       "│ ┃\u001b[1m \u001b[0m\u001b[1mcolumn_name     \u001b[0m\u001b[1m \u001b[0m┃\u001b[1m \u001b[0m\u001b[1mNA  \u001b[0m\u001b[1m \u001b[0m┃\u001b[1m \u001b[0m\u001b[1mNA %   \u001b[0m\u001b[1m \u001b[0m┃\u001b[1m \u001b[0m\u001b[1mmean    \u001b[0m\u001b[1m \u001b[0m┃\u001b[1m \u001b[0m\u001b[1msd      \u001b[0m\u001b[1m \u001b[0m┃\u001b[1m \u001b[0m\u001b[1mp0  \u001b[0m\u001b[1m \u001b[0m┃\u001b[1m \u001b[0m\u001b[1mp25     \u001b[0m\u001b[1m \u001b[0m┃\u001b[1m \u001b[0m\u001b[1mp75     \u001b[0m\u001b[1m \u001b[0m┃\u001b[1m \u001b[0m\u001b[1mp100    \u001b[0m\u001b[1m \u001b[0m┃\u001b[1m \u001b[0m\u001b[1mhist    \u001b[0m\u001b[1m \u001b[0m┃  │\n",
       "│ ┡━━━━━━━━━━━━━━━━━━╇━━━━━━╇━━━━━━━━━╇━━━━━━━━━━╇━━━━━━━━━━╇━━━━━━╇━━━━━━━━━━╇━━━━━━━━━━╇━━━━━━━━━━╇━━━━━━━━━━┩  │\n",
       "│ │ \u001b[38;5;141mUnnamed: 0      \u001b[0m │ \u001b[36m   0\u001b[0m │ \u001b[36m      0\u001b[0m │ \u001b[36m   80000\u001b[0m │ \u001b[36m   46000\u001b[0m │ \u001b[36m   0\u001b[0m │ \u001b[36m   40000\u001b[0m │ \u001b[36m  120000\u001b[0m │ \u001b[36m  160000\u001b[0m │ \u001b[32m ██████ \u001b[0m │  │\n",
       "│ │ \u001b[38;5;141mtoxic           \u001b[0m │ \u001b[36m   0\u001b[0m │ \u001b[36m      0\u001b[0m │ \u001b[36m     0.1\u001b[0m │ \u001b[36m     0.3\u001b[0m │ \u001b[36m   0\u001b[0m │ \u001b[36m       0\u001b[0m │ \u001b[36m       0\u001b[0m │ \u001b[36m       1\u001b[0m │ \u001b[32m █    ▁ \u001b[0m │  │\n",
       "│ └──────────────────┴──────┴─────────┴──────────┴──────────┴──────┴──────────┴──────────┴──────────┴──────────┘  │\n",
       "│ \u001b[3m                                                    string                                                    \u001b[0m  │\n",
       "│ ┏━━━━━━━━━━━━━━━━━━━━━━━━━━━┳━━━━━━━━━┳━━━━━━━━━━━━┳━━━━━━━━━━━━━━━━━━━━━━━━━━━━━━┳━━━━━━━━━━━━━━━━━━━━━━━━━━┓  │\n",
       "│ ┃\u001b[1m \u001b[0m\u001b[1mcolumn_name              \u001b[0m\u001b[1m \u001b[0m┃\u001b[1m \u001b[0m\u001b[1mNA     \u001b[0m\u001b[1m \u001b[0m┃\u001b[1m \u001b[0m\u001b[1mNA %      \u001b[0m\u001b[1m \u001b[0m┃\u001b[1m \u001b[0m\u001b[1mwords per row               \u001b[0m\u001b[1m \u001b[0m┃\u001b[1m \u001b[0m\u001b[1mtotal words             \u001b[0m\u001b[1m \u001b[0m┃  │\n",
       "│ ┡━━━━━━━━━━━━━━━━━━━━━━━━━━━╇━━━━━━━━━╇━━━━━━━━━━━━╇━━━━━━━━━━━━━━━━━━━━━━━━━━━━━━╇━━━━━━━━━━━━━━━━━━━━━━━━━━┩  │\n",
       "│ │ \u001b[38;5;141mtext                     \u001b[0m │ \u001b[36m      0\u001b[0m │ \u001b[36m         0\u001b[0m │ \u001b[36m                          68\u001b[0m │ \u001b[36m                11000000\u001b[0m │  │\n",
       "│ └───────────────────────────┴─────────┴────────────┴──────────────────────────────┴──────────────────────────┘  │\n",
       "╰────────────────────────────────────────────────────── End ──────────────────────────────────────────────────────╯\n"
      ]
     },
     "metadata": {},
     "output_type": "display_data"
    }
   ],
   "source": [
    "skim(df)"
   ]
  },
  {
   "cell_type": "markdown",
   "id": "4091d01f",
   "metadata": {},
   "source": [
    "В датасете нет пропущенных значений, уберу лишний признак."
   ]
  },
  {
   "cell_type": "code",
   "execution_count": 51,
   "id": "4c52391d",
   "metadata": {},
   "outputs": [
    {
     "data": {
      "text/html": [
       "<div>\n",
       "<style scoped>\n",
       "    .dataframe tbody tr th:only-of-type {\n",
       "        vertical-align: middle;\n",
       "    }\n",
       "\n",
       "    .dataframe tbody tr th {\n",
       "        vertical-align: top;\n",
       "    }\n",
       "\n",
       "    .dataframe thead th {\n",
       "        text-align: right;\n",
       "    }\n",
       "</style>\n",
       "<table border=\"1\" class=\"dataframe\">\n",
       "  <thead>\n",
       "    <tr style=\"text-align: right;\">\n",
       "      <th></th>\n",
       "      <th>text</th>\n",
       "      <th>toxic</th>\n",
       "    </tr>\n",
       "  </thead>\n",
       "  <tbody>\n",
       "    <tr>\n",
       "      <th>0</th>\n",
       "      <td>Explanation\n",
       "Why the edits made under my userna...</td>\n",
       "      <td>0</td>\n",
       "    </tr>\n",
       "    <tr>\n",
       "      <th>1</th>\n",
       "      <td>D'aww! He matches this background colour I'm s...</td>\n",
       "      <td>0</td>\n",
       "    </tr>\n",
       "    <tr>\n",
       "      <th>2</th>\n",
       "      <td>Hey man, I'm really not trying to edit war. It...</td>\n",
       "      <td>0</td>\n",
       "    </tr>\n",
       "    <tr>\n",
       "      <th>3</th>\n",
       "      <td>\"\n",
       "More\n",
       "I can't make any real suggestions on im...</td>\n",
       "      <td>0</td>\n",
       "    </tr>\n",
       "    <tr>\n",
       "      <th>4</th>\n",
       "      <td>You, sir, are my hero. Any chance you remember...</td>\n",
       "      <td>0</td>\n",
       "    </tr>\n",
       "  </tbody>\n",
       "</table>\n",
       "</div>"
      ],
      "text/plain": [
       "                                                text  toxic\n",
       "0  Explanation\n",
       "Why the edits made under my userna...      0\n",
       "1  D'aww! He matches this background colour I'm s...      0\n",
       "2  Hey man, I'm really not trying to edit war. It...      0\n",
       "3  \"\n",
       "More\n",
       "I can't make any real suggestions on im...      0\n",
       "4  You, sir, are my hero. Any chance you remember...      0"
      ]
     },
     "execution_count": 51,
     "metadata": {},
     "output_type": "execute_result"
    }
   ],
   "source": [
    "df = df.drop(columns=['Unnamed: 0'])\n",
    "df.head()"
   ]
  },
  {
   "cell_type": "markdown",
   "id": "c5ba1857",
   "metadata": {},
   "source": [
    "Наблюдается дисбаланс классов, нужно учесть это при обучении."
   ]
  },
  {
   "cell_type": "code",
   "execution_count": 52,
   "id": "301daa17",
   "metadata": {},
   "outputs": [
    {
     "data": {
      "text/plain": [
       "array([143106,  16186], dtype=int64)"
      ]
     },
     "metadata": {},
     "output_type": "display_data"
    }
   ],
   "source": [
    "df['toxic'].value_counts().values"
   ]
  },
  {
   "cell_type": "markdown",
   "id": "cfa738d2",
   "metadata": {},
   "source": [
    "Уберу все символы из текста кроме латиницы и пробелов."
   ]
  },
  {
   "cell_type": "code",
   "execution_count": 53,
   "id": "7d642645",
   "metadata": {},
   "outputs": [],
   "source": [
    "df['text'] = pd.Series(\n",
    "    map(\n",
    "        lambda x: ' '.join(re.sub(r'[^a-zA-Z]', ' ', x.lower()).split()),\n",
    "        df['text']\n",
    "    )\n",
    ")"
   ]
  },
  {
   "cell_type": "markdown",
   "id": "9ee05b55",
   "metadata": {},
   "source": [
    "Лемматизирую преобразованный текст, сохраню результат в отдельный признак."
   ]
  },
  {
   "cell_type": "code",
   "execution_count": 54,
   "id": "4a3235e8",
   "metadata": {},
   "outputs": [
    {
     "name": "stderr",
     "output_type": "stream",
     "text": [
      "C:\\Users\\khrom\\anaconda3\\envs\\practicum\\lib\\site-packages\\spacy\\language.py:1895: UserWarning: [W123] Argument disable with value ['parser', 'ner'] is used instead of ['senter'] as specified in the config. Be aware that this might affect other components in your pipeline.\n",
      "  warnings.warn(\n"
     ]
    },
    {
     "data": {
      "text/html": [
       "<div>\n",
       "<style scoped>\n",
       "    .dataframe tbody tr th:only-of-type {\n",
       "        vertical-align: middle;\n",
       "    }\n",
       "\n",
       "    .dataframe tbody tr th {\n",
       "        vertical-align: top;\n",
       "    }\n",
       "\n",
       "    .dataframe thead th {\n",
       "        text-align: right;\n",
       "    }\n",
       "</style>\n",
       "<table border=\"1\" class=\"dataframe\">\n",
       "  <thead>\n",
       "    <tr style=\"text-align: right;\">\n",
       "      <th></th>\n",
       "      <th>text</th>\n",
       "      <th>toxic</th>\n",
       "      <th>text_lem</th>\n",
       "    </tr>\n",
       "  </thead>\n",
       "  <tbody>\n",
       "    <tr>\n",
       "      <th>0</th>\n",
       "      <td>explanation why the edits made under my userna...</td>\n",
       "      <td>0</td>\n",
       "      <td>explanation why the edit make under my usernam...</td>\n",
       "    </tr>\n",
       "    <tr>\n",
       "      <th>1</th>\n",
       "      <td>d aww he matches this background colour i m se...</td>\n",
       "      <td>0</td>\n",
       "      <td>d aww he match this background colour I m seem...</td>\n",
       "    </tr>\n",
       "    <tr>\n",
       "      <th>2</th>\n",
       "      <td>hey man i m really not trying to edit war it s...</td>\n",
       "      <td>0</td>\n",
       "      <td>hey man I m really not try to edit war it s ju...</td>\n",
       "    </tr>\n",
       "    <tr>\n",
       "      <th>3</th>\n",
       "      <td>more i can t make any real suggestions on impr...</td>\n",
       "      <td>0</td>\n",
       "      <td>more I can t make any real suggestion on impro...</td>\n",
       "    </tr>\n",
       "    <tr>\n",
       "      <th>4</th>\n",
       "      <td>you sir are my hero any chance you remember wh...</td>\n",
       "      <td>0</td>\n",
       "      <td>you sir be my hero any chance you remember wha...</td>\n",
       "    </tr>\n",
       "  </tbody>\n",
       "</table>\n",
       "</div>"
      ],
      "text/plain": [
       "                                                text  toxic  \\\n",
       "0  explanation why the edits made under my userna...      0   \n",
       "1  d aww he matches this background colour i m se...      0   \n",
       "2  hey man i m really not trying to edit war it s...      0   \n",
       "3  more i can t make any real suggestions on impr...      0   \n",
       "4  you sir are my hero any chance you remember wh...      0   \n",
       "\n",
       "                                            text_lem  \n",
       "0  explanation why the edit make under my usernam...  \n",
       "1  d aww he match this background colour I m seem...  \n",
       "2  hey man I m really not try to edit war it s ju...  \n",
       "3  more I can t make any real suggestion on impro...  \n",
       "4  you sir be my hero any chance you remember wha...  "
      ]
     },
     "execution_count": 54,
     "metadata": {},
     "output_type": "execute_result"
    }
   ],
   "source": [
    "m = spacy.load('en_core_web_sm', disable=['parser', 'ner'])\n",
    "df['text_lem'] = pd.Series(\n",
    "    map(\n",
    "        lambda x: ' '.join(token.lemma_ for token in m(x)),\n",
    "        df['text']\n",
    "    )\n",
    ")\n",
    "df.head()"
   ]
  },
  {
   "cell_type": "markdown",
   "id": "e5fe8010",
   "metadata": {},
   "source": [
    "### Формирование выборок"
   ]
  },
  {
   "cell_type": "markdown",
   "id": "b48df273",
   "metadata": {},
   "source": [
    "Выделяю тренеровочную и тестовую выборку в соотношении 3:1, при делении учтен дисбаланс классов. "
   ]
  },
  {
   "cell_type": "code",
   "execution_count": 55,
   "id": "4985b01c",
   "metadata": {},
   "outputs": [],
   "source": [
    "features_train, features_test, target_train, target_test = train_test_split(\n",
    "    df['text_lem'], df['toxic'], test_size=0.25, random_state=SEED,\n",
    "    stratify=df['toxic']\n",
    ")"
   ]
  },
  {
   "cell_type": "markdown",
   "id": "9e10e711",
   "metadata": {},
   "source": [
    "## Обучение модели"
   ]
  },
  {
   "cell_type": "markdown",
   "id": "8f01102e",
   "metadata": {},
   "source": [
    "### Объявление функций для обучения"
   ]
  },
  {
   "cell_type": "markdown",
   "id": "4b3776f0",
   "metadata": {},
   "source": [
    "Функция `teach_model` создает пайплайн, который преобразует данные с помощью `TfidfVectorizer`, обучает модель и выводит результаты обучения. "
   ]
  },
  {
   "cell_type": "code",
   "execution_count": 104,
   "id": "5f0b73bf",
   "metadata": {},
   "outputs": [
    {
     "name": "stderr",
     "output_type": "stream",
     "text": [
      "[nltk_data] Downloading package stopwords to\n",
      "[nltk_data]     C:\\Users\\khrom\\AppData\\Roaming\\nltk_data...\n",
      "[nltk_data]   Package stopwords is already up-to-date!\n"
     ]
    }
   ],
   "source": [
    "nltk.download('stopwords')\n",
    "stop_words = set(stopwords.words('english'))\n",
    "def teach_model(classifier, grid, tf_idf=True, cv=10):\n",
    "    step = []\n",
    "    \n",
    "    if tf_idf:\n",
    "        step.append(('transformer', TfidfVectorizer(stop_words=stop_words)))\n",
    "        \n",
    "    step.append(('classifier', GridSearchCV(estimator=classifier, cv=cv,\n",
    "                                             scoring='f1',\n",
    "                                             param_grid=grid)))\n",
    "    \n",
    "    pipe = Pipeline(steps=step)\n",
    "    \n",
    "    pipe.fit(features_train, target_train)\n",
    "    model = pipe.named_steps.classifier\n",
    "    print('Best params:', model.best_params_)\n",
    "    \n",
    "    pipe.all_scores_ = test_model(pipe, features_train, target_train)\n",
    "    \n",
    "    return pipe"
   ]
  },
  {
   "cell_type": "markdown",
   "id": "259465e0",
   "metadata": {},
   "source": [
    "Функция `test_model` выводит результаты метрик для указанных признаков, таргета и пайплайна."
   ]
  },
  {
   "cell_type": "code",
   "execution_count": 105,
   "id": "f5fc23bb",
   "metadata": {},
   "outputs": [],
   "source": [
    "def test_model(pipe, feat, targ, return_result=True):\n",
    "    result = {}\n",
    "    proba = True\n",
    "    predictions = pipe.predict(feat)\n",
    "    result['accuracy'] = accuracy_score(targ, predictions)\n",
    "    \n",
    "    try:\n",
    "        proba_one = pipe.predict_proba(feat)[:, 1]\n",
    "        result['roc_auc'] = roc_auc_score(targ, proba_one)\n",
    "    except:\n",
    "        result['roc_auc'] = -1\n",
    "        proba = False\n",
    "    \n",
    "    result['recall'] = recall_score(targ, predictions)\n",
    "    result['precision'] = precision_score(targ, predictions)\n",
    "    result['f1'] = f1_score(targ, predictions)\n",
    "    \n",
    "    result = pd.DataFrame(result, index=['score'])\n",
    "    \n",
    "    display(result)\n",
    "    print('Confusion_matrix:')\n",
    "    display(\n",
    "        pd.DataFrame(confusion_matrix(targ, predictions),\n",
    "                     columns=['N_pred', 'P_pred'],\n",
    "                     index=['N_answer', 'P_answer'])\n",
    "    )\n",
    "    \n",
    "    if proba:\n",
    "        fpr, tpr, thresholds = roc_curve(targ, proba_one)\n",
    "        ax = sns.lineplot(x=fpr, y=tpr)\n",
    "        sns.lineplot(x=[0, 1], y=[0, 1], linestyle='--', ax=ax)\n",
    "        ax.set_title('ROC curve', fontsize=15)\n",
    "        ax.set_xlabel('FPR')\n",
    "        ax.set_ylabel('TPR')\n",
    "    \n",
    "    if return_result:\n",
    "        return result"
   ]
  },
  {
   "cell_type": "markdown",
   "id": "410bcedd",
   "metadata": {},
   "source": [
    "### Обучение моделей"
   ]
  },
  {
   "cell_type": "markdown",
   "id": "675eded8",
   "metadata": {},
   "source": [
    "Обученные модели будут храниться в словаре, расшифровка ключей:\n",
    "- `log` - логистическая регрессия\n",
    "- `svc` - LinearSVC\n",
    "- `sgd` - SGDClassifier  \n",
    "- `dummy` - проверка моделей на адекватность"
   ]
  },
  {
   "cell_type": "code",
   "execution_count": 106,
   "id": "e6b424fb",
   "metadata": {},
   "outputs": [],
   "source": [
    "models = {}"
   ]
  },
  {
   "cell_type": "markdown",
   "id": "153fd7bc",
   "metadata": {},
   "source": [
    "#### Логистическая регрессия"
   ]
  },
  {
   "cell_type": "markdown",
   "id": "af32d08c",
   "metadata": {},
   "source": [
    "Значение основной метрики - 0.889, неплохой результат."
   ]
  },
  {
   "cell_type": "code",
   "execution_count": 107,
   "id": "56649f66",
   "metadata": {
    "scrolled": true
   },
   "outputs": [
    {
     "name": "stdout",
     "output_type": "stream",
     "text": [
      "Best params: {'C': 5, 'class_weight': 'balanced', 'max_iter': 1500, 'n_jobs': -1, 'penalty': 'l2'}\n"
     ]
    },
    {
     "data": {
      "text/html": [
       "<div>\n",
       "<style scoped>\n",
       "    .dataframe tbody tr th:only-of-type {\n",
       "        vertical-align: middle;\n",
       "    }\n",
       "\n",
       "    .dataframe tbody tr th {\n",
       "        vertical-align: top;\n",
       "    }\n",
       "\n",
       "    .dataframe thead th {\n",
       "        text-align: right;\n",
       "    }\n",
       "</style>\n",
       "<table border=\"1\" class=\"dataframe\">\n",
       "  <thead>\n",
       "    <tr style=\"text-align: right;\">\n",
       "      <th></th>\n",
       "      <th>accuracy</th>\n",
       "      <th>roc_auc</th>\n",
       "      <th>recall</th>\n",
       "      <th>precision</th>\n",
       "      <th>f1</th>\n",
       "    </tr>\n",
       "  </thead>\n",
       "  <tbody>\n",
       "    <tr>\n",
       "      <th>score</th>\n",
       "      <td>0.974947</td>\n",
       "      <td>0.996565</td>\n",
       "      <td>0.992257</td>\n",
       "      <td>0.806022</td>\n",
       "      <td>0.889496</td>\n",
       "    </tr>\n",
       "  </tbody>\n",
       "</table>\n",
       "</div>"
      ],
      "text/plain": [
       "       accuracy   roc_auc    recall  precision        f1\n",
       "score  0.974947  0.996565  0.992257   0.806022  0.889496"
      ]
     },
     "metadata": {},
     "output_type": "display_data"
    },
    {
     "name": "stdout",
     "output_type": "stream",
     "text": [
      "Confusion_matrix:\n"
     ]
    },
    {
     "data": {
      "text/html": [
       "<div>\n",
       "<style scoped>\n",
       "    .dataframe tbody tr th:only-of-type {\n",
       "        vertical-align: middle;\n",
       "    }\n",
       "\n",
       "    .dataframe tbody tr th {\n",
       "        vertical-align: top;\n",
       "    }\n",
       "\n",
       "    .dataframe thead th {\n",
       "        text-align: right;\n",
       "    }\n",
       "</style>\n",
       "<table border=\"1\" class=\"dataframe\">\n",
       "  <thead>\n",
       "    <tr style=\"text-align: right;\">\n",
       "      <th></th>\n",
       "      <th>N_pred</th>\n",
       "      <th>P_pred</th>\n",
       "    </tr>\n",
       "  </thead>\n",
       "  <tbody>\n",
       "    <tr>\n",
       "      <th>N_answer</th>\n",
       "      <td>104430</td>\n",
       "      <td>2899</td>\n",
       "    </tr>\n",
       "    <tr>\n",
       "      <th>P_answer</th>\n",
       "      <td>94</td>\n",
       "      <td>12046</td>\n",
       "    </tr>\n",
       "  </tbody>\n",
       "</table>\n",
       "</div>"
      ],
      "text/plain": [
       "          N_pred  P_pred\n",
       "N_answer  104430    2899\n",
       "P_answer      94   12046"
      ]
     },
     "metadata": {},
     "output_type": "display_data"
    },
    {
     "data": {
      "image/png": "[encoded data removed]",
      "text/plain": [
       "<Figure size 432x288 with 1 Axes>"
      ]
     },
     "metadata": {
      "needs_background": "light"
     },
     "output_type": "display_data"
    }
   ],
   "source": [
    "models['log'] = teach_model(\n",
    "    LogisticRegression(),\n",
    "    {\n",
    "        'max_iter': [1500],\n",
    "        'C': [5],\n",
    "        'penalty': ['l2'],\n",
    "        'class_weight': ['balanced'],\n",
    "        'n_jobs': [-1]\n",
    "    }\n",
    ")"
   ]
  },
  {
   "cell_type": "markdown",
   "id": "6653940c",
   "metadata": {},
   "source": [
    "#### LinearSVC"
   ]
  },
  {
   "cell_type": "markdown",
   "id": "9bc2774c",
   "metadata": {},
   "source": [
    "Значение метрики чуть хуже чем у логистической регрессии - 0.885."
   ]
  },
  {
   "cell_type": "code",
   "execution_count": 108,
   "id": "0d4e166d",
   "metadata": {
    "scrolled": true
   },
   "outputs": [
    {
     "name": "stdout",
     "output_type": "stream",
     "text": [
      "Best params: {'C': 0.4, 'class_weight': 'balanced', 'loss': 'squared_hinge', 'max_iter': 3000, 'penalty': 'l2', 'random_state': 340513}\n"
     ]
    },
    {
     "data": {
      "text/html": [
       "<div>\n",
       "<style scoped>\n",
       "    .dataframe tbody tr th:only-of-type {\n",
       "        vertical-align: middle;\n",
       "    }\n",
       "\n",
       "    .dataframe tbody tr th {\n",
       "        vertical-align: top;\n",
       "    }\n",
       "\n",
       "    .dataframe thead th {\n",
       "        text-align: right;\n",
       "    }\n",
       "</style>\n",
       "<table border=\"1\" class=\"dataframe\">\n",
       "  <thead>\n",
       "    <tr style=\"text-align: right;\">\n",
       "      <th></th>\n",
       "      <th>accuracy</th>\n",
       "      <th>roc_auc</th>\n",
       "      <th>recall</th>\n",
       "      <th>precision</th>\n",
       "      <th>f1</th>\n",
       "    </tr>\n",
       "  </thead>\n",
       "  <tbody>\n",
       "    <tr>\n",
       "      <th>score</th>\n",
       "      <td>0.973776</td>\n",
       "      <td>-1</td>\n",
       "      <td>0.991763</td>\n",
       "      <td>0.798779</td>\n",
       "      <td>0.884871</td>\n",
       "    </tr>\n",
       "  </tbody>\n",
       "</table>\n",
       "</div>"
      ],
      "text/plain": [
       "       accuracy  roc_auc    recall  precision        f1\n",
       "score  0.973776       -1  0.991763   0.798779  0.884871"
      ]
     },
     "metadata": {},
     "output_type": "display_data"
    },
    {
     "name": "stdout",
     "output_type": "stream",
     "text": [
      "Confusion_matrix:\n"
     ]
    },
    {
     "data": {
      "text/html": [
       "<div>\n",
       "<style scoped>\n",
       "    .dataframe tbody tr th:only-of-type {\n",
       "        vertical-align: middle;\n",
       "    }\n",
       "\n",
       "    .dataframe tbody tr th {\n",
       "        vertical-align: top;\n",
       "    }\n",
       "\n",
       "    .dataframe thead th {\n",
       "        text-align: right;\n",
       "    }\n",
       "</style>\n",
       "<table border=\"1\" class=\"dataframe\">\n",
       "  <thead>\n",
       "    <tr style=\"text-align: right;\">\n",
       "      <th></th>\n",
       "      <th>N_pred</th>\n",
       "      <th>P_pred</th>\n",
       "    </tr>\n",
       "  </thead>\n",
       "  <tbody>\n",
       "    <tr>\n",
       "      <th>N_answer</th>\n",
       "      <td>104296</td>\n",
       "      <td>3033</td>\n",
       "    </tr>\n",
       "    <tr>\n",
       "      <th>P_answer</th>\n",
       "      <td>100</td>\n",
       "      <td>12040</td>\n",
       "    </tr>\n",
       "  </tbody>\n",
       "</table>\n",
       "</div>"
      ],
      "text/plain": [
       "          N_pred  P_pred\n",
       "N_answer  104296    3033\n",
       "P_answer     100   12040"
      ]
     },
     "metadata": {},
     "output_type": "display_data"
    }
   ],
   "source": [
    "models['svc'] = teach_model(\n",
    "    LinearSVC(),\n",
    "    {\n",
    "        'loss': ['squared_hinge'],\n",
    "        'max_iter': [3000],\n",
    "        'C': [0.4],\n",
    "        'penalty': ['l2'],\n",
    "        'random_state': [SEED],\n",
    "        'class_weight': ['balanced'],\n",
    "        \n",
    "    }\n",
    ")"
   ]
  },
  {
   "cell_type": "markdown",
   "id": "68e60deb",
   "metadata": {},
   "source": [
    "#### SGDClassifier"
   ]
  },
  {
   "cell_type": "markdown",
   "id": "1edea486",
   "metadata": {},
   "source": [
    "Значение метрики 0.92 - лучший результат. Стоит отметить высокое значение `precision`, однако `recall` хуже чем у других моделей."
   ]
  },
  {
   "cell_type": "code",
   "execution_count": 109,
   "id": "b26afe7d",
   "metadata": {
    "scrolled": true
   },
   "outputs": [
    {
     "name": "stdout",
     "output_type": "stream",
     "text": [
      "Best params: {'alpha': 1e-05, 'class_weight': None, 'loss': 'modified_huber', 'max_iter': 1500, 'n_jobs': -1, 'penalty': 'l2', 'random_state': 340513, 'tol': 0.005}\n"
     ]
    },
    {
     "data": {
      "text/html": [
       "<div>\n",
       "<style scoped>\n",
       "    .dataframe tbody tr th:only-of-type {\n",
       "        vertical-align: middle;\n",
       "    }\n",
       "\n",
       "    .dataframe tbody tr th {\n",
       "        vertical-align: top;\n",
       "    }\n",
       "\n",
       "    .dataframe thead th {\n",
       "        text-align: right;\n",
       "    }\n",
       "</style>\n",
       "<table border=\"1\" class=\"dataframe\">\n",
       "  <thead>\n",
       "    <tr style=\"text-align: right;\">\n",
       "      <th></th>\n",
       "      <th>accuracy</th>\n",
       "      <th>roc_auc</th>\n",
       "      <th>recall</th>\n",
       "      <th>precision</th>\n",
       "      <th>f1</th>\n",
       "    </tr>\n",
       "  </thead>\n",
       "  <tbody>\n",
       "    <tr>\n",
       "      <th>score</th>\n",
       "      <td>0.985101</td>\n",
       "      <td>0.996426</td>\n",
       "      <td>0.88402</td>\n",
       "      <td>0.966499</td>\n",
       "      <td>0.923421</td>\n",
       "    </tr>\n",
       "  </tbody>\n",
       "</table>\n",
       "</div>"
      ],
      "text/plain": [
       "       accuracy   roc_auc   recall  precision        f1\n",
       "score  0.985101  0.996426  0.88402   0.966499  0.923421"
      ]
     },
     "metadata": {},
     "output_type": "display_data"
    },
    {
     "name": "stdout",
     "output_type": "stream",
     "text": [
      "Confusion_matrix:\n"
     ]
    },
    {
     "data": {
      "text/html": [
       "<div>\n",
       "<style scoped>\n",
       "    .dataframe tbody tr th:only-of-type {\n",
       "        vertical-align: middle;\n",
       "    }\n",
       "\n",
       "    .dataframe tbody tr th {\n",
       "        vertical-align: top;\n",
       "    }\n",
       "\n",
       "    .dataframe thead th {\n",
       "        text-align: right;\n",
       "    }\n",
       "</style>\n",
       "<table border=\"1\" class=\"dataframe\">\n",
       "  <thead>\n",
       "    <tr style=\"text-align: right;\">\n",
       "      <th></th>\n",
       "      <th>N_pred</th>\n",
       "      <th>P_pred</th>\n",
       "    </tr>\n",
       "  </thead>\n",
       "  <tbody>\n",
       "    <tr>\n",
       "      <th>N_answer</th>\n",
       "      <td>106957</td>\n",
       "      <td>372</td>\n",
       "    </tr>\n",
       "    <tr>\n",
       "      <th>P_answer</th>\n",
       "      <td>1408</td>\n",
       "      <td>10732</td>\n",
       "    </tr>\n",
       "  </tbody>\n",
       "</table>\n",
       "</div>"
      ],
      "text/plain": [
       "          N_pred  P_pred\n",
       "N_answer  106957     372\n",
       "P_answer    1408   10732"
      ]
     },
     "metadata": {},
     "output_type": "display_data"
    },
    {
     "data": {
      "image/png": "[encoded data removed]",
      "text/plain": [
       "<Figure size 432x288 with 1 Axes>"
      ]
     },
     "metadata": {
      "needs_background": "light"
     },
     "output_type": "display_data"
    }
   ],
   "source": [
    "models['sgd'] = teach_model(\n",
    "    SGDClassifier(),\n",
    "    {\n",
    "        'loss': ['modified_huber'],\n",
    "        'alpha': [1e-5],\n",
    "        'max_iter': [1500],\n",
    "        'penalty': ['l2'],\n",
    "        'tol': [5e-3],\n",
    "        'random_state': [SEED],\n",
    "        'class_weight': [None],\n",
    "        'n_jobs': [-1]\n",
    "    }\n",
    ")"
   ]
  },
  {
   "cell_type": "markdown",
   "id": "82c19e51",
   "metadata": {},
   "source": [
    "#### Проверка на адекватность"
   ]
  },
  {
   "cell_type": "markdown",
   "id": "f9c06f1a",
   "metadata": {},
   "source": [
    "Все модели прошли проверку на адекватость."
   ]
  },
  {
   "cell_type": "code",
   "execution_count": 110,
   "id": "1ee6eaa7",
   "metadata": {
    "scrolled": true
   },
   "outputs": [
    {
     "name": "stdout",
     "output_type": "stream",
     "text": [
      "Best params: {'random_state': 340513, 'strategy': 'stratified'}\n"
     ]
    },
    {
     "data": {
      "text/html": [
       "<div>\n",
       "<style scoped>\n",
       "    .dataframe tbody tr th:only-of-type {\n",
       "        vertical-align: middle;\n",
       "    }\n",
       "\n",
       "    .dataframe tbody tr th {\n",
       "        vertical-align: top;\n",
       "    }\n",
       "\n",
       "    .dataframe thead th {\n",
       "        text-align: right;\n",
       "    }\n",
       "</style>\n",
       "<table border=\"1\" class=\"dataframe\">\n",
       "  <thead>\n",
       "    <tr style=\"text-align: right;\">\n",
       "      <th></th>\n",
       "      <th>accuracy</th>\n",
       "      <th>roc_auc</th>\n",
       "      <th>recall</th>\n",
       "      <th>precision</th>\n",
       "      <th>f1</th>\n",
       "    </tr>\n",
       "  </thead>\n",
       "  <tbody>\n",
       "    <tr>\n",
       "      <th>score</th>\n",
       "      <td>0.818966</td>\n",
       "      <td>0.50197</td>\n",
       "      <td>0.104119</td>\n",
       "      <td>0.105193</td>\n",
       "      <td>0.104653</td>\n",
       "    </tr>\n",
       "  </tbody>\n",
       "</table>\n",
       "</div>"
      ],
      "text/plain": [
       "       accuracy  roc_auc    recall  precision        f1\n",
       "score  0.818966  0.50197  0.104119   0.105193  0.104653"
      ]
     },
     "metadata": {},
     "output_type": "display_data"
    },
    {
     "name": "stdout",
     "output_type": "stream",
     "text": [
      "Confusion_matrix:\n"
     ]
    },
    {
     "data": {
      "text/html": [
       "<div>\n",
       "<style scoped>\n",
       "    .dataframe tbody tr th:only-of-type {\n",
       "        vertical-align: middle;\n",
       "    }\n",
       "\n",
       "    .dataframe tbody tr th {\n",
       "        vertical-align: top;\n",
       "    }\n",
       "\n",
       "    .dataframe thead th {\n",
       "        text-align: right;\n",
       "    }\n",
       "</style>\n",
       "<table border=\"1\" class=\"dataframe\">\n",
       "  <thead>\n",
       "    <tr style=\"text-align: right;\">\n",
       "      <th></th>\n",
       "      <th>N_pred</th>\n",
       "      <th>P_pred</th>\n",
       "    </tr>\n",
       "  </thead>\n",
       "  <tbody>\n",
       "    <tr>\n",
       "      <th>N_answer</th>\n",
       "      <td>96577</td>\n",
       "      <td>10752</td>\n",
       "    </tr>\n",
       "    <tr>\n",
       "      <th>P_answer</th>\n",
       "      <td>10876</td>\n",
       "      <td>1264</td>\n",
       "    </tr>\n",
       "  </tbody>\n",
       "</table>\n",
       "</div>"
      ],
      "text/plain": [
       "          N_pred  P_pred\n",
       "N_answer   96577   10752\n",
       "P_answer   10876    1264"
      ]
     },
     "metadata": {},
     "output_type": "display_data"
    },
    {
     "data": {
      "image/png": "[encoded data removed]",
      "text/plain": [
       "<Figure size 432x288 with 1 Axes>"
      ]
     },
     "metadata": {
      "needs_background": "light"
     },
     "output_type": "display_data"
    }
   ],
   "source": [
    "models['dummy'] = teach_model(\n",
    "    DummyClassifier(),\n",
    "    {\n",
    "        'strategy': ['stratified'],\n",
    "        'random_state': [SEED],\n",
    "    }\n",
    ")"
   ]
  },
  {
   "cell_type": "markdown",
   "id": "a98d001d",
   "metadata": {},
   "source": [
    "### Результаты обучения"
   ]
  },
  {
   "cell_type": "markdown",
   "id": "8658af2f",
   "metadata": {},
   "source": [
    "`SGDClassifier` показала лучшие результаты на обучении, выбираю эту модель для тестирования."
   ]
  },
  {
   "cell_type": "code",
   "execution_count": 111,
   "id": "9774c210",
   "metadata": {},
   "outputs": [
    {
     "data": {
      "text/html": [
       "<div>\n",
       "<style scoped>\n",
       "    .dataframe tbody tr th:only-of-type {\n",
       "        vertical-align: middle;\n",
       "    }\n",
       "\n",
       "    .dataframe tbody tr th {\n",
       "        vertical-align: top;\n",
       "    }\n",
       "\n",
       "    .dataframe thead th {\n",
       "        text-align: right;\n",
       "    }\n",
       "</style>\n",
       "<table border=\"1\" class=\"dataframe\">\n",
       "  <thead>\n",
       "    <tr style=\"text-align: right;\">\n",
       "      <th></th>\n",
       "      <th>accuracy</th>\n",
       "      <th>roc_auc</th>\n",
       "      <th>recall</th>\n",
       "      <th>precision</th>\n",
       "      <th>f1</th>\n",
       "    </tr>\n",
       "  </thead>\n",
       "  <tbody>\n",
       "    <tr>\n",
       "      <th>sgd</th>\n",
       "      <td>0.985101</td>\n",
       "      <td>0.996426</td>\n",
       "      <td>0.884020</td>\n",
       "      <td>0.966499</td>\n",
       "      <td>0.923421</td>\n",
       "    </tr>\n",
       "    <tr>\n",
       "      <th>log</th>\n",
       "      <td>0.974947</td>\n",
       "      <td>0.996565</td>\n",
       "      <td>0.992257</td>\n",
       "      <td>0.806022</td>\n",
       "      <td>0.889496</td>\n",
       "    </tr>\n",
       "    <tr>\n",
       "      <th>svc</th>\n",
       "      <td>0.973776</td>\n",
       "      <td>-1.000000</td>\n",
       "      <td>0.991763</td>\n",
       "      <td>0.798779</td>\n",
       "      <td>0.884871</td>\n",
       "    </tr>\n",
       "    <tr>\n",
       "      <th>dummy</th>\n",
       "      <td>0.818966</td>\n",
       "      <td>0.501970</td>\n",
       "      <td>0.104119</td>\n",
       "      <td>0.105193</td>\n",
       "      <td>0.104653</td>\n",
       "    </tr>\n",
       "  </tbody>\n",
       "</table>\n",
       "</div>"
      ],
      "text/plain": [
       "       accuracy   roc_auc    recall  precision        f1\n",
       "sgd    0.985101  0.996426  0.884020   0.966499  0.923421\n",
       "log    0.974947  0.996565  0.992257   0.806022  0.889496\n",
       "svc    0.973776 -1.000000  0.991763   0.798779  0.884871\n",
       "dummy  0.818966  0.501970  0.104119   0.105193  0.104653"
      ]
     },
     "execution_count": 111,
     "metadata": {},
     "output_type": "execute_result"
    }
   ],
   "source": [
    "pd.concat([models[i].all_scores_ for i in models], keys=[i for i in models]).sort_values(by='f1', ascending=False)\\\n",
    "    .reset_index(drop=True, level=1)"
   ]
  },
  {
   "cell_type": "markdown",
   "id": "8db19971",
   "metadata": {},
   "source": [
    "## Тестирование модели"
   ]
  },
  {
   "cell_type": "markdown",
   "id": "dc426a0d",
   "metadata": {},
   "source": [
    "Значение метрики 0.79, результат удовлетворяет требованиям. "
   ]
  },
  {
   "cell_type": "code",
   "execution_count": 112,
   "id": "35b2c468",
   "metadata": {
    "scrolled": true
   },
   "outputs": [
    {
     "data": {
      "text/html": [
       "<div>\n",
       "<style scoped>\n",
       "    .dataframe tbody tr th:only-of-type {\n",
       "        vertical-align: middle;\n",
       "    }\n",
       "\n",
       "    .dataframe tbody tr th {\n",
       "        vertical-align: top;\n",
       "    }\n",
       "\n",
       "    .dataframe thead th {\n",
       "        text-align: right;\n",
       "    }\n",
       "</style>\n",
       "<table border=\"1\" class=\"dataframe\">\n",
       "  <thead>\n",
       "    <tr style=\"text-align: right;\">\n",
       "      <th></th>\n",
       "      <th>accuracy</th>\n",
       "      <th>roc_auc</th>\n",
       "      <th>recall</th>\n",
       "      <th>precision</th>\n",
       "      <th>f1</th>\n",
       "    </tr>\n",
       "  </thead>\n",
       "  <tbody>\n",
       "    <tr>\n",
       "      <th>score</th>\n",
       "      <td>0.960952</td>\n",
       "      <td>0.957177</td>\n",
       "      <td>0.723678</td>\n",
       "      <td>0.870134</td>\n",
       "      <td>0.790177</td>\n",
       "    </tr>\n",
       "  </tbody>\n",
       "</table>\n",
       "</div>"
      ],
      "text/plain": [
       "       accuracy   roc_auc    recall  precision        f1\n",
       "score  0.960952  0.957177  0.723678   0.870134  0.790177"
      ]
     },
     "metadata": {},
     "output_type": "display_data"
    },
    {
     "name": "stdout",
     "output_type": "stream",
     "text": [
      "Confusion_matrix:\n"
     ]
    },
    {
     "data": {
      "text/html": [
       "<div>\n",
       "<style scoped>\n",
       "    .dataframe tbody tr th:only-of-type {\n",
       "        vertical-align: middle;\n",
       "    }\n",
       "\n",
       "    .dataframe tbody tr th {\n",
       "        vertical-align: top;\n",
       "    }\n",
       "\n",
       "    .dataframe thead th {\n",
       "        text-align: right;\n",
       "    }\n",
       "</style>\n",
       "<table border=\"1\" class=\"dataframe\">\n",
       "  <thead>\n",
       "    <tr style=\"text-align: right;\">\n",
       "      <th></th>\n",
       "      <th>N_pred</th>\n",
       "      <th>P_pred</th>\n",
       "    </tr>\n",
       "  </thead>\n",
       "  <tbody>\n",
       "    <tr>\n",
       "      <th>N_answer</th>\n",
       "      <td>35340</td>\n",
       "      <td>437</td>\n",
       "    </tr>\n",
       "    <tr>\n",
       "      <th>P_answer</th>\n",
       "      <td>1118</td>\n",
       "      <td>2928</td>\n",
       "    </tr>\n",
       "  </tbody>\n",
       "</table>\n",
       "</div>"
      ],
      "text/plain": [
       "          N_pred  P_pred\n",
       "N_answer   35340     437\n",
       "P_answer    1118    2928"
      ]
     },
     "metadata": {},
     "output_type": "display_data"
    },
    {
     "data": {
      "image/png": "[encoded data removed]",
      "text/plain": [
       "<Figure size 432x288 with 1 Axes>"
      ]
     },
     "metadata": {
      "needs_background": "light"
     },
     "output_type": "display_data"
    }
   ],
   "source": [
    "test_model(models['sgd'], features_test, target_test, return_result=False)"
   ]
  },
  {
   "cell_type": "markdown",
   "id": "75a7c226",
   "metadata": {},
   "source": [
    "## Общий вывод"
   ]
  },
  {
   "cell_type": "markdown",
   "id": "d7756d7f",
   "metadata": {},
   "source": [
    "Целью этого исследования выступало построение модели машинного обучения, которая будет классифицировать комментарии на позитивные и негативные. Обучение происходило на наборе данных с разметкой о токсичности правок. Условиями являлись:  \n",
    "- Целевой признак - является ли комментарий токсичным `toxic`.\n",
    "- Метрикой выступает `F1`, её значение не должно быть меньше 0.75.  \n",
    "\n",
    "Была проведена работа над исходным датасетом:\n",
    "- Из исходного датасета был удален ненужный признак, выявлен дисбаланс классов.\n",
    "- Текст очищен от ненужных символов, проведена лемматизация.\n",
    "- Выборка была разделена на тренеровочную и тестовую в соотношении 3:1.\n",
    "- Сформирована матрица признаков для обучения.\n",
    "- Объявлены функции для обучения и тестирования моделей.  \n",
    "\n",
    "Расшифровка обученных моделей:\n",
    "- `log` - логистическая регрессия\n",
    "- `svc` - LinearSVC\n",
    "- `sgd` - SGDClassifier  \n",
    "- `dummy` - проверка моделей на адекватность\n",
    "\n",
    "\n",
    "Все модели прошли проверку на адекватность на стадии обучения. Прошла тестирование следующая модель:\n",
    "- `sgd`:\n",
    "    - `F1 = 0.79`\n",
    "    - `precision = 0.87`\n",
    "    - `recall = 0.72`\n",
    "    - `accuracy = 0.96`\n",
    "    - `ROC-AUC = 0.96`  "
   ]
  },
  {
   "cell_type": "code",
   "execution_count": null,
   "id": "0a2975ed",
   "metadata": {},
   "outputs": [],
   "source": []
  }
 ],
 "metadata": {
  "kernelspec": {
   "display_name": "Python 3 (ipykernel)",
   "language": "python",
   "name": "python3"
  },
  "language_info": {
   "codemirror_mode": {
    "name": "ipython",
    "version": 3
   },
   "file_extension": ".py",
   "mimetype": "text/x-python",
   "name": "python",
   "nbconvert_exporter": "python",
   "pygments_lexer": "ipython3",
   "version": "3.9.13"
  },
  "toc": {
   "base_numbering": 1,
   "nav_menu": {},
   "number_sections": true,
   "sideBar": true,
   "skip_h1_title": true,
   "title_cell": "Содержание",
   "title_sidebar": "Contents",
   "toc_cell": true,
   "toc_position": {
    "height": "calc(100% - 180px)",
    "left": "10px",
    "top": "150px",
    "width": "307.2px"
   },
   "toc_section_display": true,
   "toc_window_display": true
  }
 },
 "nbformat": 4,
 "nbformat_minor": 5
}
